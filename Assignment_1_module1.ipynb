{
  "nbformat": 4,
  "nbformat_minor": 0,
  "metadata": {
    "colab": {
      "provenance": [],
      "authorship_tag": "ABX9TyOVoq7N5TmIuX3A8tyNHZGC",
      "include_colab_link": true
    },
    "kernelspec": {
      "name": "python3",
      "display_name": "Python 3"
    },
    "language_info": {
      "name": "python"
    }
  },
  "cells": [
    {
      "cell_type": "markdown",
      "metadata": {
        "id": "view-in-github",
        "colab_type": "text"
      },
      "source": [
        "<a href=\"https://colab.research.google.com/github/rkachi1/Edureka-Python-assignments/blob/master/Assignment_1_module1.ipynb\" target=\"_parent\"><img src=\"https://colab.research.google.com/assets/colab-badge.svg\" alt=\"Open In Colab\"/></a>"
      ]
    },
    {
      "cell_type": "code",
      "execution_count": 4,
      "metadata": {
        "colab": {
          "base_uri": "https://localhost:8080/"
        },
        "id": "5aTRQANPDvrI",
        "outputId": "dd59f428-fa02-4502-9936-83d5c53951cd"
      },
      "outputs": [
        {
          "output_type": "stream",
          "name": "stdout",
          "text": [
            "Enter a number to find factors6\n",
            "factor is odd 1\n",
            "factor is even 2\n",
            "factor is odd 3\n",
            "factor is even 6\n"
          ]
        }
      ],
      "source": [
        "n = eval(input('Enter a number to find factors'))\n",
        "i = 1\n",
        "for i in range(i,n+1):\n",
        "    if n % i == 0:\n",
        "      if i % 2 == 0:\n",
        "        print(\"factor is even\",i)\n",
        "      else:\n",
        "        print(\"factor is odd\",i)\n",
        "    i+=1"
      ]
    },
    {
      "cell_type": "code",
      "source": [
        "st1 = input('Enter sequence of words as input to sort alphabetically')\n",
        "\n",
        "st2 = st1.split()\n",
        "st2.sort()\n",
        "for i in st2:\n",
        "  print(i)\n"
      ],
      "metadata": {
        "colab": {
          "base_uri": "https://localhost:8080/"
        },
        "id": "aL7nXWkOD_0O",
        "outputId": "8df2f8a8-dbd8-4e2d-e172-6f661399bb62"
      },
      "execution_count": 9,
      "outputs": [
        {
          "output_type": "stream",
          "name": "stdout",
          "text": [
            "Enter sequence of words as input to sort alphabeticallyzebra apple\n",
            "apple\n",
            "zebra\n"
          ]
        }
      ]
    },
    {
      "cell_type": "code",
      "source": [
        "validdigits = []\n",
        "for i in range(1001,3000):\n",
        "   digits = str(i)\n",
        "   all_odd = True\n",
        "   for digit in digits:\n",
        "    if int(digit) % 2 == 0:\n",
        "      all_odd = False\n",
        "      break\n",
        "   else:\n",
        "     validdigits.append(i)\n",
        "print(len(validdigits))\n"
      ],
      "metadata": {
        "colab": {
          "base_uri": "https://localhost:8080/"
        },
        "id": "osvIKESYFe_P",
        "outputId": "40cdb0be-b8e6-4e9b-c077-52bf84cb0f30"
      },
      "execution_count": 18,
      "outputs": [
        {
          "output_type": "stream",
          "name": "stdout",
          "text": [
            "125\n"
          ]
        }
      ]
    },
    {
      "cell_type": "code",
      "source": [
        "str1 = input(\"enter a string\")\n",
        "letters = []\n",
        "digits = []\n",
        "for i in str1:\n",
        "  if i.isalpha():\n",
        "    letters.append(i)\n",
        "  elif i.isdigit():\n",
        "    digits.append(i)\n",
        "print(\"Digits:- \",len(digits))\n",
        "print(\"Letters:- \",len(letters))\n",
        "#"
      ],
      "metadata": {
        "colab": {
          "base_uri": "https://localhost:8080/"
        },
        "id": "CWGodTFaHkgQ",
        "outputId": "1299e994-c7be-4448-b022-43731e20f52d"
      },
      "execution_count": 21,
      "outputs": [
        {
          "output_type": "stream",
          "name": "stdout",
          "text": [
            "enter a stringEdureka 123\n",
            "Digits:-  3\n",
            "Letters:-  7\n"
          ]
        }
      ]
    },
    {
      "cell_type": "code",
      "source": [
        "def palindrome():\n",
        "\n",
        "  x = input(\"Enter a number to find whether the given number is palindrome or not\")\n",
        "  print(type(x))\n",
        "  if x == x[::-1]:\n",
        "    print(\"Palindrome\")\n",
        "  else:\n",
        "    print(\"Not a palindrome\")\n",
        "palindrome()\n",
        ""
      ],
      "metadata": {
        "colab": {
          "base_uri": "https://localhost:8080/"
        },
        "id": "1N5zjkhRIBmn",
        "outputId": "4aa90c90-274a-452d-e83e-c019564b9a91"
      },
      "execution_count": 27,
      "outputs": [
        {
          "output_type": "stream",
          "name": "stdout",
          "text": [
            "Enter a number to find whether the given number is palindrome or not123\n",
            "<class 'str'>\n",
            "Not a palindrome\n"
          ]
        }
      ]
    }
  ]
}